{
 "cells": [
  {
   "cell_type": "markdown",
   "metadata": {},
   "source": [
    "# Sampling from symmetric Dirichlet distribution priors"
   ]
  },
  {
   "cell_type": "markdown",
   "metadata": {},
   "source": [
    "## Symmetric Dirichlet distributions\n",
    "\n",
    "One compelling criterion for a prior over categorical PMFs that aims to be uninformative or noncommital about the categorical PMF is that the prior not express any preference for some categories over others.  This requires that the prior be **symmetric** with respect to the $\\alpha_k$ category probability parameters.\n",
    "\n",
    "In Lec06 we discussed the Dirichlet distribution, a PDF for the $\\alpha_k$ parameters describing a $K$-category categorical PMF (a \"PDF over PMFs\").  It has $K$ concentration parameters, $\\kappa_k$. The Dirichlet PDF is given by\n",
    "$$\n",
    "p(\\alpha_1,\\ldots,\\alpha_K) =\n",
    "  \\frac{\\Gamma(\\kappa_0)}{\\Gamma(\\kappa_1)\\cdots\\Gamma(\\kappa_K)}\\;\n",
    "  \\alpha_1^{\\kappa_1-1}\\cdots\\alpha_K^{\\kappa_K-1}\\;\n",
    "  \\delta\\left(1-\\sum_k\\alpha_k\\right),\n",
    "$$\n",
    "where $\\kappa_0 = \\sum_{k=1}^K \\kappa_k$. \n",
    "\n",
    "A *symmetric* Dirichlet distribution is a Dirichlet distribution with all concentration parameters equal to each other: $\\kappa_i = \\kappa$:\n",
    "$$\n",
    "p(\\alpha_1,\\ldots,\\alpha_K) =\n",
    "  \\frac{\\Gamma(K\\cdot\\kappa)}{[\\Gamma(\\kappa)]^K}\\;\n",
    "  \\alpha_1^{\\kappa-1}\\cdots\\alpha_K^{\\kappa-1}\\;\n",
    "  \\delta\\left(1-\\sum_k\\alpha_k\\right),\n",
    "$$\n",
    "If $\\kappa = 1$, the resulting symmetric Dirichlet PDF is constant—the prior used in Lec06. Here we'll explore this prior, and an alternative."
   ]
  },
  {
   "cell_type": "code",
   "execution_count": 1,
   "metadata": {},
   "outputs": [],
   "source": [
    "from matplotlib.pyplot import *\n",
    "from scipy import *\n",
    "from scipy.stats import dirichlet\n",
    "\n",
    "from shelves import shelves\n",
    "\n",
    "# pyplot.ion() tells Jupyter to make plots in cells, or tells IPython\n",
    "# to make plots in an interactive window.\n",
    "ion()"
   ]
  },
  {
   "cell_type": "code",
   "execution_count": 2,
   "metadata": {},
   "outputs": [],
   "source": [
    "class SymmetricDirichlet:\n",
    "    \n",
    "    def __init__(self, ncat, kappa):\n",
    "        \"\"\"\n",
    "        Define a symmetric Dirichlet distribution over PMFs with `ncat` categories,\n",
    "        with each category's concentration parameter equal to `kappa`.\n",
    "        \"\"\"\n",
    "        self.ncat = ncat\n",
    "        self.kappa = kappa\n",
    "        self.kappa0 = ncat*kappa\n",
    "        self.kappas = kappa*ones(ncat)\n",
    "        \n",
    "        # Define the Dirichlet by setting all kappas = kappa.\n",
    "        self.distn = dirichlet(self.kappas)\n",
    "\n",
    "    def pdf(self, alphas):\n",
    "        \"\"\"\n",
    "        Compute the PDF for category probabilities given by `alphas`.\n",
    "        \"\"\"\n",
    "        return self.distn.pdf(alphas)\n",
    "\n",
    "    def sample(self, n=1):\n",
    "        \"\"\"\n",
    "        Return `n` samples from a symmetric Dirichlet.\n",
    "        \"\"\"\n",
    "        return self.distn.rvs(n)"
   ]
  },
  {
   "cell_type": "markdown",
   "metadata": {},
   "source": [
    "### Uniform symmetric Dirichlet priors"
   ]
  },
  {
   "cell_type": "markdown",
   "metadata": {},
   "source": [
    "Intuition suggests that a uniform prior should be uniformative/noncommital. A main point of this exercise is to make you question that intuition!  Uniform priors are typically reasonable starting points for an individual parameter, or maybe a few parameters considered jointly. But in high-dimensional spaces, uniform priors can have suprising properties!\n",
    "\n",
    "Let's look at the uniform symmetric Dirichlet prior over 2 categories (i.e., a Beta distribution):"
   ]
  },
  {
   "cell_type": "code",
   "execution_count": 3,
   "metadata": {},
   "outputs": [],
   "source": [
    "flatsd2 = SymmetricDirichlet(2, 1.)"
   ]
  },
  {
   "cell_type": "markdown",
   "metadata": {},
   "source": [
    "Print out 10 2-category PMFs drawn from this prior. Note each probability ($\\alpha_1$, $\\alpha_2$) varies pretty much over the full range $[0,1]$."
   ]
  },
  {
   "cell_type": "code",
   "execution_count": 4,
   "metadata": {},
   "outputs": [
    {
     "data": {
      "text/plain": [
       "array([[0.05953952, 0.94046048],\n",
       "       [0.66906725, 0.33093275],\n",
       "       [0.52707986, 0.47292014],\n",
       "       [0.73665587, 0.26334413],\n",
       "       [0.63650447, 0.36349553],\n",
       "       [0.33367531, 0.66632469],\n",
       "       [0.89756005, 0.10243995],\n",
       "       [0.89279527, 0.10720473],\n",
       "       [0.08220692, 0.91779308],\n",
       "       [0.18094898, 0.81905102]])"
      ]
     },
     "execution_count": 4,
     "metadata": {},
     "output_type": "execute_result"
    }
   ],
   "source": [
    "samps = flatsd2.sample(10)\n",
    "samps"
   ]
  },
  {
   "cell_type": "markdown",
   "metadata": {},
   "source": [
    "Let's show those PMFs in a plot. This uses a function in the `shelves.py` module imported above. This `stack_samples` function stacks the PMFs. Note that the ordinate for each one spans [0,`delta`], where here we set `delta=1.2` so the plots span the full possible range for any $\\alpha_k$, with a little extra space to clearly separate the cases in the stack."
   ]
  },
  {
   "cell_type": "code",
   "execution_count": 5,
   "metadata": {},
   "outputs": [],
   "source": [
    "def stack_samples(samples, delta=1.2):\n",
    "    \"\"\"\n",
    "    Make a stack of plots of the PMFs in `samples`, each one offset\n",
    "    vertically by `delta`.\n",
    "    \"\"\"\n",
    "    figure(figsize=(10,7))\n",
    "    dy = 0.  # starting vertical shift\n",
    "    for samp in samples:\n",
    "        ax = shelves(samp, dy=dy)  # imported from shelves.py\n",
    "        ax.axhline(dy, c='k')  # horizontal line separating each case\n",
    "        dy += delta\n",
    "\n",
    "    # Don't show y ticks, since the dy vertical shift changes the y values.\n",
    "    ax.set_yticks([])\n",
    "\n",
    "    xlim(0., 1.)  # keep mpl from padding the left or right (dangling shelves!)\n",
    "    ylim(0., len(samples)*delta)  # keep mpl from padding the bottom or top\n",
    "\n",
    "    # It's often a good idea to return axes when you make a plot in a function.\n",
    "    # You can ignore the return value, or capture it in cases when you might\n",
    "    # want to modify the plot later.\n",
    "    return ax"
   ]
  },
  {
   "cell_type": "code",
   "execution_count": 6,
   "metadata": {},
   "outputs": [
    {
     "data": {
      "text/plain": [
       "<matplotlib.axes._subplots.AxesSubplot at 0x1aca388d2c8>"
      ]
     },
     "execution_count": 6,
     "metadata": {},
     "output_type": "execute_result"
    },
    {
     "data": {
      "image/png": "[encoded data removed]",
      "text/plain": [
       "<Figure size 720x504 with 1 Axes>"
      ]
     },
     "metadata": {
      "needs_background": "light"
     },
     "output_type": "display_data"
    }
   ],
   "source": [
    "stack_samples(samps)"
   ]
  },
  {
   "cell_type": "markdown",
   "metadata": {},
   "source": [
    "Now do the same exercise for $K=5$ and $K=20$. It may also be instructive to look at the samples in `samps`, although this becomes unwieldy for large $K$."
   ]
  }
 ],
 "metadata": {
  "kernelspec": {
   "display_name": "Python 3",
   "language": "python",
   "name": "python3"
  },
  "language_info": {
   "codemirror_mode": {
    "name": "ipython",
    "version": 3
   },
   "file_extension": ".py",
   "mimetype": "text/x-python",
   "name": "python",
   "nbconvert_exporter": "python",
   "pygments_lexer": "ipython3",
   "version": "3.7.4"
  }
 },
 "nbformat": 4,
 "nbformat_minor": 2
}
